{
 "cells": [
  {
   "cell_type": "markdown",
   "metadata": {},
   "source": [
    "# RAG assistant witrh Chroma\n",
    "\n",
    "Notebook consisting in two parts:\n",
    "- Generation of the vectorstore from the 4 PDF documents provided.\n",
    "- Model to inference the answer from a question using RAG retrieving from the vectorstore generated\n",
    "\n",
    "The model used for the embeddings and the text generation are from OpenAI.\n",
    "And the library using for generate the embeddings and the vectorstore is Chroma."
   ]
  },
  {
   "cell_type": "code",
   "execution_count": 1,
   "metadata": {},
   "outputs": [],
   "source": [
    "from langchain.text_splitter import CharacterTextSplitter\n",
    "from langchain_openai import OpenAIEmbeddings\n",
    "from langchain.chains.question_answering import load_qa_chain\n",
    "from langchain.vectorstores import Chroma\n",
    "import chromadb\n",
    "from langchain_community.document_loaders import PyMuPDFLoader\n",
    "from langchain.text_splitter import RecursiveCharacterTextSplitter\n",
    "import os\n",
    "\n",
    "from langchain.chains import RetrievalQA\n",
    "from langchain_openai import ChatOpenAI\n"
   ]
  },
  {
   "cell_type": "code",
   "execution_count": 2,
   "metadata": {},
   "outputs": [],
   "source": [
    "# Embeddings model and LLM\n",
    "embedding=OpenAIEmbeddings(api_key=os.getenv(\"OPENAI_API_KEY\"))\n",
    "llm = ChatOpenAI(model=\"gpt-3.5-turbo-0125\", temperature=0.2, api_key=os.getenv(\"OPENAI_API_KEY\"))"
   ]
  },
  {
   "cell_type": "markdown",
   "metadata": {},
   "source": [
    "## Create the embeddings of the docuemts"
   ]
  },
  {
   "cell_type": "code",
   "execution_count": 3,
   "metadata": {},
   "outputs": [],
   "source": [
    "# Function to embed a document or a list of documents\n",
    "def load_doc(paths):\n",
    "    \"\"\"\n",
    "    Function to extract text from pdf, create the embeddings of the documents and save them in the file \"chroma_db\".\n",
    "\n",
    "    Argument:\n",
    "    path: the directory where to find the pdf file/s. It can be a string or a list of directories.\n",
    "    \n",
    "    It uses OpenAI model, so it will need to define the OpenAI_key.\n",
    "\n",
    "    \"\"\"\n",
    "    # Converting path as a list\n",
    "    if isinstance(paths, str):\n",
    "        paths = [paths] \n",
    "\n",
    "    # Loop to embed all the document of the list\n",
    "    for pth in paths:\n",
    "        loader = PyMuPDFLoader(pth)\n",
    "        data = loader.load()\n",
    "\n",
    "        # Split document in chunks\n",
    "        text_splitter = RecursiveCharacterTextSplitter(chunk_size=500, chunk_overlap=0)\n",
    "        all_splits = text_splitter.split_documents(data)\n",
    "\n",
    "        # Embed the splits and store them in the vectorstore as \"chroma_db\"\n",
    "        embedding = OpenAIEmbeddings(api_key=os.getenv(\"OPENAI_API_KEY\"))\n",
    "        vectorstore = Chroma.from_documents(documents=all_splits, embedding=embedding, persist_directory=\"./chroma_db\")\n",
    "        print(f\"Vectorstore for {pth} created and stored.\")\n",
    "    return vectorstore\n"
   ]
  },
  {
   "cell_type": "code",
   "execution_count": 9,
   "metadata": {},
   "outputs": [
    {
     "name": "stdout",
     "output_type": "stream",
     "text": [
      "Vectorstore for ..\\documents\\doc_2023_12_Posicionamiento_Environment.pdf created and stored.\n",
      "Vectorstore for ..\\documents\\Ficha tecnica CI Environment ISR_240317.pdf created and stored.\n",
      "Vectorstore for ..\\documents\\NORRCO004_V28_Catalogo de productos de activo vigentes.pdf created and stored.\n",
      "Vectorstore for ..\\documents\\Tarifas transferencias Extranjero.pdf created and stored.\n"
     ]
    },
    {
     "data": {
      "text/plain": [
       "<langchain_community.vectorstores.chroma.Chroma at 0x15cf1abe480>"
      ]
     },
     "execution_count": 9,
     "metadata": {},
     "output_type": "execute_result"
    }
   ],
   "source": [
    "# List of paths to the documents to be embedded\n",
    "path = [r\"..\\documents\\doc_2023_12_Posicionamiento_Environment.pdf\", \n",
    "              r\"..\\documents\\Ficha tecnica CI Environment ISR_240317.pdf\", \n",
    "              r\"..\\documents\\NORRCO004_V28_Catalogo de productos de activo vigentes.pdf\", \n",
    "              r\"..\\documents\\Tarifas transferencias Extranjero.pdf\",\n",
    "             ]\n",
    "\n",
    "# Executing the function to embed documents\n",
    "load_doc(path)"
   ]
  },
  {
   "cell_type": "markdown",
   "metadata": {},
   "source": [
    "## Model using RAG"
   ]
  },
  {
   "cell_type": "code",
   "execution_count": 10,
   "metadata": {},
   "outputs": [],
   "source": [
    "# RAG prompt\n",
    "from langchain import hub\n",
    "prompt = hub.pull(\"rlm/rag-prompt\")"
   ]
  },
  {
   "cell_type": "code",
   "execution_count": 11,
   "metadata": {},
   "outputs": [],
   "source": [
    "# Load the previously created Chroma index from the \"chroma_db\" directory\n",
    "vectorstore = Chroma(persist_directory=\"./chroma_db\", embedding_function=embedding)\n",
    "\n",
    "# RetrievalQA chain\n",
    "qa_chain = RetrievalQA.from_chain_type(\n",
    "    llm,\n",
    "    retriever=vectorstore.as_retriever(),\n",
    "    chain_type_kwargs={\"prompt\": prompt}\n",
    ")"
   ]
  },
  {
   "cell_type": "markdown",
   "metadata": {},
   "source": [
    "## Testing the model"
   ]
  },
  {
   "cell_type": "code",
   "execution_count": 12,
   "metadata": {},
   "outputs": [
    {
     "data": {
      "text/plain": [
       "{'query': '¿Puedes indicarme el coste de recibir una transferencia de 5.000€ en Yenes?',\n",
       " 'result': 'El coste de recibir una transferencia de 5.000€ en Yenes sería de 5€ como mínimo y un máximo de 250€, con una comisión de pago del 2,5‰.'}"
      ]
     },
     "execution_count": 12,
     "metadata": {},
     "output_type": "execute_result"
    }
   ],
   "source": [
    "# Question and invoking the chain for quering\n",
    "question = \"¿Puedes indicarme el coste de recibir una transferencia de 5.000€ en Yenes?\"\n",
    "result = qa_chain.invoke({\"query\": question})\n",
    "result"
   ]
  },
  {
   "cell_type": "code",
   "execution_count": 13,
   "metadata": {},
   "outputs": [
    {
     "data": {
      "text/plain": [
       "{'query': '¿Noruega tiene convenio con la UE?',\n",
       " 'result': 'Sí, Noruega tiene un convenio con la UE a través del Espacio Económico Europeo (EEE), que incluye a Islandia y Liechtenstein. El EEE permite a Noruega participar en el mercado único de la UE sin ser miembro de la Unión Europea.'}"
      ]
     },
     "execution_count": 13,
     "metadata": {},
     "output_type": "execute_result"
    }
   ],
   "source": [
    "question_2 = \"¿Noruega tiene convenio con la UE?\"\n",
    "result_2 = qa_chain.invoke({\"query\": question_2})\n",
    "result_2"
   ]
  }
 ],
 "metadata": {
  "kernelspec": {
   "display_name": "env_juego",
   "language": "python",
   "name": "python3"
  },
  "language_info": {
   "codemirror_mode": {
    "name": "ipython",
    "version": 3
   },
   "file_extension": ".py",
   "mimetype": "text/x-python",
   "name": "python",
   "nbconvert_exporter": "python",
   "pygments_lexer": "ipython3",
   "version": "3.12.3"
  }
 },
 "nbformat": 4,
 "nbformat_minor": 2
}
